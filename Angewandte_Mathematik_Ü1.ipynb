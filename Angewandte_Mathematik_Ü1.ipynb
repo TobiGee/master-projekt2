{
 "cells": [
  {
   "cell_type": "markdown",
   "metadata": {},
   "source": [
    "# Übungsblatt 1\n",
    "\n",
    "## Aufgabe 1.1 \n",
    "### Genauigkeit\n",
    "Es sei p = 123 und q = 0,2. Bestimmen Sie die kleinere der beiden Lösungen von\n",
    "$x^2 − 2px + q = 0$\n",
    "mit den Maschinenzahlen zu b = 10 und m = 3 mithilfe der beiden folgenden ’Algorithmen’:\n",
    "*  pq-Formel: $u_1=p-\\sqrt{p^2-q}$\n",
    "* pq-Formel + Erweitern: $u_1 = \\frac{q}{p+\\sqrt{p^2-q}}(=(p-\\sqrt{p^2-q}) \\cdot \\frac{p+\\sqrt{p^2-q}}{p+\\sqrt{p^2-q}} )$ \n",
    "\n",
    "Vergleichen Sie die Ergebnisse mit den exakten Werten und interpretieren Sie die Resultate.\n"
   ]
  },
  {
   "cell_type": "code",
   "execution_count": null,
   "metadata": {},
   "outputs": [],
   "source": []
  },
  {
   "cell_type": "markdown",
   "metadata": {},
   "source": [
    "## Aufgabe 1.2 \n",
    "### Kondition\n",
    "\n",
    "Bestimmen Sie die Konditionierungszahlen der folgenden Rechenoperationen und entscheiden Sie\n",
    "damit, in welchen Fällen die Operation gut-konditioniert ist.\n",
    "\n",
    "a) Division: $f(x1, x2) = \\frac{x1}{x2}$\n",
    "\n",
    "b) Potenzieren: $f(x) = x^p$ für $x > 0$ und festes $p > 0$\n"
   ]
  },
  {
   "cell_type": "code",
   "execution_count": null,
   "metadata": {},
   "outputs": [],
   "source": []
  },
  {
   "cell_type": "markdown",
   "metadata": {},
   "source": [
    "## Aufgabe 1.3 \n",
    "### Entenjagd\n",
    "\n",
    "In einem Entenschwarm fliegen zwischen 1000 und\n",
    "10 000 Enten in einer regelmäßigen Dreiecksformation\n",
    "(s. Skizze). Ein Jäger schießt nach den Enten, verfehlt sie aber.\n",
    "Auf den Schreck organisieren sich die Enten neu, zu zwei exakt gleich\n",
    "großen (kleineren) Schwärmen. Die Formation bildet jeweils wieder\n",
    "ein regelmäßiges Dreieck.\n",
    "\n",
    "Wieviele Enten fliegen im Schwarm?"
   ]
  },
  {
   "cell_type": "code",
   "execution_count": null,
   "metadata": {},
   "outputs": [],
   "source": []
  },
  {
   "cell_type": "markdown",
   "metadata": {},
   "source": [
    "## Aufgabe 1.4 \n",
    "### Acht-Damen-Problem\n",
    "Bestimmen Sie alle Lösungen des [Acht-Damen-Problems](https://de.wikipedia.org/wiki/Damenproblem) mit einem rekursiven Algorithmus.\n"
   ]
  },
  {
   "cell_type": "code",
   "execution_count": null,
   "metadata": {},
   "outputs": [],
   "source": []
  }
 ],
 "metadata": {
  "kernelspec": {
   "display_name": "Python 3",
   "language": "python",
   "name": "python3"
  },
  "language_info": {
   "codemirror_mode": {
    "name": "ipython",
    "version": 3
   },
   "file_extension": ".py",
   "mimetype": "text/x-python",
   "name": "python",
   "nbconvert_exporter": "python",
   "pygments_lexer": "ipython3",
   "version": "3.7.4"
  }
 },
 "nbformat": 4,
 "nbformat_minor": 2
}
