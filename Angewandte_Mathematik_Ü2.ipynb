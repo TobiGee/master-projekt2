{
 "cells": [
  {
   "cell_type": "code",
   "execution_count": 6,
   "metadata": {},
   "outputs": [],
   "source": [
    "import urllib\n",
    "import requests"
   ]
  },
  {
   "cell_type": "markdown",
   "metadata": {},
   "source": [
    "# Übungsblatt 2\n",
    "\n",
    "## Aufgabe 2.1 \n",
    "### Komplexität von Matrix-Operationen\n",
    "Bestimmen Sie die Laufzeitkomplexität der folgenden Operationen für Matrizen $A, B ∈ R$, \n",
    "$n×n$:\n",
    "\n",
    "a) Addition A + B \n",
    "\n",
    "b) Multiplikation A · B\n",
    "\n",
    "c) det(A) mit Laplaceschem Entwicklungssatz\n",
    "\n",
    "d) det(A) nach Vereinfachung (’viele Nullen’, ähnlich Gauß)"
   ]
  },
  {
   "cell_type": "code",
   "execution_count": null,
   "metadata": {},
   "outputs": [],
   "source": []
  },
  {
   "cell_type": "markdown",
   "metadata": {},
   "source": [
    "## Aufgabe 2.2 \n",
    "### Komplexität des Gaußschen-Eliminationsverfahrens\n",
    "\n",
    "Bestimmen Sie Komplexitätsklasse von Laufzeit und Speicher der Gauß-Elimination für ein $n×n$-LGS.\n"
   ]
  },
  {
   "cell_type": "code",
   "execution_count": null,
   "metadata": {},
   "outputs": [],
   "source": []
  },
  {
   "cell_type": "markdown",
   "metadata": {},
   "source": [
    "## Aufgabe 2.3 \n",
    "### TSP\n",
    "\n",
    "Finden Sie die (möglichst) optimale Route durch die Punkte aus der Datei tsp01.data."
   ]
  },
  {
   "cell_type": "code",
   "execution_count": 12,
   "metadata": {},
   "outputs": [
    {
     "name": "stdout",
     "output_type": "stream",
     "text": [
      "8.0   124.0\n",
      "125.0 80.0\n",
      "97.0  74.0\n",
      "69.0  96.0\n",
      "106.0 46.0\n",
      "49.0  57.0\n",
      "80.0  125.0\n",
      "42.0  93.0\n",
      "104.0 94.0\n",
      "35.0  17.0\n",
      "118.0 96.0\n",
      "151.0 22.0\n",
      "154.0 182.0\n",
      "57.0  165.0\n",
      "18.0  159.0\n",
      "\n"
     ]
    }
   ],
   "source": [
    "f= open(\"tsp01.data\",\"r\")\n",
    "print(f.read())\n",
    "f.close()\n"
   ]
  },
  {
   "cell_type": "markdown",
   "metadata": {},
   "source": [
    "## Aufgabe 2.4 \n",
    "### Rucksack-Problem I\n",
    "Verwenden Sie ein Verfahren Ihrer Wahl um einen Rucksack mit 500 kg Tragkraft optimal mit folgenden [Gegenständen](http://rosettacode.org/wiki/Knapsack_problem/0-1) zu füllen:\n",
    "\n",
    "<table><thead><tr><th>item</th><th>Gewicht</th><th>Wert</th><th rowspan=\"13\"></th><th>item</th><th>Gewicht</th><th>Wert</th></tr><tr><td>map</td><td>9</td><td>100</td><td>T-shirt</td><td>24</td><td>15</td></tr><tr><td>compass</td><td>13 </td><td>35</td><td>trousers</td><td>48</td><td>10</td></tr><tr><td>water</td><td>153</td><td>200</td><td>umbrella</td><td>73</td><td>40</td></tr><tr><td>sandwich</td><td>50</td><td>160</td><td>waterproof trousers</td><td>42</td><td>70</td></tr><tr><td>glucose</td><td>15</td><td>60</td><td>waterproof overclothes</td><td>43</td><td>75</td></tr><tr><td>tin</td><td>68</td><td>45</td><td>note-case</td><td>22</td><td>80</td></tr><tr><td>banana</td><td>27</td><td>60</td><td>sunglasses</td><td>7</td><td>20</td></tr><tr><td>apple</td><td>39</td><td>40</td><td>towel</td><td>18</td><td>12</td></tr><tr><td>cheese</td><td>23</td><td>30</td><td>socks</td><td>4</td><td>50</td></tr><tr><td>beer</td><td>52</td><td>10</td><td>book</td><td>30</td><td>10</td></tr><tr><td>suntan cream</td><td>11</td><td>70</td><td>notebbok</td><td>90</td><td>1</td></tr><tr><td>camera</td><td>32</td><td>30</td><td>tent</td><td>200</td><td>150</td></tr></thead></table>"
   ]
  },
  {
   "cell_type": "code",
   "execution_count": null,
   "metadata": {},
   "outputs": [],
   "source": []
  },
  {
   "cell_type": "markdown",
   "metadata": {},
   "source": [
    "## Aufgabe 2.5 \n",
    "### Rucksack-Problem II\n",
    "\n",
    "Verwenden Sie dynamische Programmierung oder einen branch-and-bound-Ansatz um eine möglichst\n",
    "gute Füllung für einen Rucksack mit 10 000 g Tragkraft aus Objekten der Datei knapsack01.data\n",
    "zu finden (Gewichte in Gramm).\n",
    "\n",
    "Überprüfen Sie Ihr Ergebnis mit Ihrem Algorithmus aus Aufgabe 2.4."
   ]
  },
  {
   "cell_type": "code",
   "execution_count": null,
   "metadata": {},
   "outputs": [],
   "source": []
  }
 ],
 "metadata": {
  "kernelspec": {
   "display_name": "Python 3",
   "language": "python",
   "name": "python3"
  },
  "language_info": {
   "codemirror_mode": {
    "name": "ipython",
    "version": 3
   },
   "file_extension": ".py",
   "mimetype": "text/x-python",
   "name": "python",
   "nbconvert_exporter": "python",
   "pygments_lexer": "ipython3",
   "version": "3.7.4"
  }
 },
 "nbformat": 4,
 "nbformat_minor": 2
}
