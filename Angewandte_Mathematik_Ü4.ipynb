{
 "cells": [
  {
   "cell_type": "markdown",
   "metadata": {},
   "source": [
    "# Übungsblatt 4"
   ]
  },
  {
   "cell_type": "code",
   "execution_count": null,
   "metadata": {},
   "outputs": [],
   "source": []
  },
  {
   "cell_type": "markdown",
   "metadata": {},
   "source": [
    "## Aufgabe 4.1 \n",
    "### Nullstellensuche I\n",
    "\n",
    "Finden Sie alle Lösungen der Gleichung $\\frac{1}{3}x^3 = 2x − 1$ im Intervall $[−10, 10]$.\n",
    "Schätzen Sie die Genauigkeit Ihrer Lösungen ab"
   ]
  },
  {
   "cell_type": "code",
   "execution_count": null,
   "metadata": {},
   "outputs": [],
   "source": []
  },
  {
   "cell_type": "markdown",
   "metadata": {},
   "source": [
    "## Aufgabe 4.2 \n",
    "### Nullstellensuche II\n",
    "\n",
    "Bestimmen Sie für die folgenden Funktionen die Nullstellen $x_i$ zunächst exakt und untersuchen Sie\n",
    "dann für ’jede’ Nullstelle $x$, für welche $x_0$ das Newton-Verfahren gegen $x_i$ konvergiert. Wählen Sie\n",
    "dazu $x_0$ im Intervall $[−5, 5]$ mit einer Genauigkeit von 4 Nachkommastellen.\n",
    "\n",
    "a) $f_1(x) = x^2 − 2$\n",
    "\n",
    "b) $f_2(x) = x^3 − 4x^2+x+6$\n",
    "\n",
    "c) $f_3(x) = sin(x)$"
   ]
  },
  {
   "cell_type": "code",
   "execution_count": null,
   "metadata": {},
   "outputs": [],
   "source": []
  },
  {
   "cell_type": "markdown",
   "metadata": {},
   "source": [
    "## Aufgabe 4.3 \n",
    "### Nullstellensuche III\n",
    "Berechnen Sie numerisch den Wert $ln(2)$ als Nullstelle von $f(x) = e^2\n",
    "x − 2$.\n",
    "\n",
    "a) Verwenden Sie das Newtonverfahren mit der analytisch exakten Ableitung.\n",
    "\n",
    "b) Verwenden Sie das Newtonverfahren mit einer über zentrale Differenzen approximierten Ableitung.\n",
    "\n",
    "c) Verwenden Sie einen Ansatz über Bisektion.\n",
    "\n",
    "d) Vergleichen Sie die Lösungen aus a) - c), indem Sie für jeden Iterationsschritt den Fehler mit\n",
    "dem ’exakten’ (Matlab-)Wert $log(2)$ vergleichen und plotten. Verwenden Sie für den Fehler\n",
    "eine logarithmische Skala.\n"
   ]
  },
  {
   "cell_type": "code",
   "execution_count": null,
   "metadata": {},
   "outputs": [],
   "source": []
  },
  {
   "cell_type": "markdown",
   "metadata": {},
   "source": [
    "## Aufgabe 4.4 \n",
    "### Numerisches Differenzieren\n",
    "\n",
    "Für das numerische Differenzieren stehen insbesondere die beiden folgenden Näherungsformeln zur\n",
    "Verfügung:\n",
    "\n",
    "Vorwärtsdifferenz: $f^{\\prime}(x_0) \\approx \\frac{f(x_0+h)−f(x_0)}{h}$\n",
    "\n",
    "zentrale Differenz: $f^{\\prime}(x_0) \\approx \\frac{f(x_0+\\frac{h}{2})−f(x_0-\\frac{h}{2})}{h}$\n",
    "\n",
    "Zeigen Sie mithilfe der Taylorreihe von $f(x)$ um den Entwicklungspunkt $( x_0 | f(x_0) )$, dass die Vorwärtsdifferenzen linear und die zentralen Differenzen quadratisch gegen die Ableitung $f_0(x_0)$ konvergieren.\n",
    "\n",
    "*Hinweis:* Gehen Sie davon aus, dass die Funktion f in einer hinreichend großen Umgebung von x0\n",
    "stetig differenzierbar ist."
   ]
  },
  {
   "cell_type": "code",
   "execution_count": null,
   "metadata": {},
   "outputs": [],
   "source": []
  }
 ],
 "metadata": {
  "kernelspec": {
   "display_name": "Python 3",
   "language": "python",
   "name": "python3"
  },
  "language_info": {
   "codemirror_mode": {
    "name": "ipython",
    "version": 3
   },
   "file_extension": ".py",
   "mimetype": "text/x-python",
   "name": "python",
   "nbconvert_exporter": "python",
   "pygments_lexer": "ipython3",
   "version": "3.7.4"
  }
 },
 "nbformat": 4,
 "nbformat_minor": 2
}
