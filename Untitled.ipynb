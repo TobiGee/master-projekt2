{
 "cells": [
  {
   "cell_type": "code",
   "execution_count": null,
   "metadata": {},
   "outputs": [],
   "source": [
    "maxWeight =501;\n",
    "n =25;\n",
    "\n",
    "wi=[9 13 153 50 15 68 27 39 23 52 11 32 24 48 73 42 43 22 7 18 4 30 90 200]\n",
    "vi =[150 35 200 160 60 45 60 40 30 10 70 30 15 10 40 70 75 80 20 12 50 10 1 150]\n",
    "matrix =zeros(n,maxWeight);\n",
    "item=[\"map\",\"compass\",\"water\",\"sandwich\",\"glucose\",\"tin\",\"banana\",\"apple\",\"cheese\",\"beer\",\"suntan cream\",\"camera\",\"T.shirt\",\"trousers\",\"umbreall\",\"waterproof trousers\",\"waterproof overclothes\",\"note-case\",\"sunglasses\",\"towel\",\"socks\",\"book\",\"notebook\",\"tenet\"];\n",
    "\n",
    "i=2;\n",
    "g=2;\n",
    "\n",
    "while(i-1<25)\n",
    "    \n",
    "while ((g-1)<501)\n",
    "    if (wi(i-1)>(g-1))\n",
    "        g=g+1;\n",
    "        matrix(i,g)=matrix(i-1,g);\n",
    "    elseif ( matrix(i-1,g)< (matrix(i-1,(g-wi(i-1)))+vi(i-1)))\n",
    "        matrix(i,g)=matrix(i-1,g-wi(i-1))+vi(i-1);\n",
    "        g=g+1;\n",
    "    else\n",
    "        matrix(i,g)=matrix(i-1,g);\n",
    "        g=g+1;\n",
    "    end  \n",
    "    \n",
    "end\n",
    "i=i+1;\n",
    "g=2;\n",
    "end\n",
    "\n",
    "max_Wert=matrix(25,501);\n",
    "g=501;\n",
    "i=25;\n",
    "elemente=[];\n",
    "\n",
    "while(max_Wert ~= 0)    \n",
    "while(matrix(i,g)>=max_Wert)\n",
    "    g=g-1;\n",
    "end\n",
    "g=g+1;\n",
    "\n",
    "while (matrix(i,g)>=max_Wert)\n",
    "    i=i-1;\n",
    "end\n",
    "\n",
    "i=i+1;\n",
    "max_Wert=max_Wert-vi(i-1);\n",
    "elemente=[elemente i-1];\n",
    "i=i-1;\n",
    "g=501;\n",
    "end\n",
    "\n",
    "ergebnis=item(elemente);"
   ]
  },
  {
   "cell_type": "code",
   "execution_count": null,
   "metadata": {},
   "outputs": [],
   "source": []
  }
 ],
 "metadata": {
  "kernelspec": {
   "display_name": "Matlab",
   "language": "matlab",
   "name": "matlab"
  },
  "language_info": {
   "codemirror_mode": "octave",
   "file_extension": ".m",
   "help_links": [
    {
     "text": "MetaKernel Magics",
     "url": "https://metakernel.readthedocs.io/en/latest/source/README.html"
    }
   ],
   "mimetype": "text/x-octave",
   "name": "matlab",
   "version": "0.16.9"
  }
 },
 "nbformat": 4,
 "nbformat_minor": 2
}
